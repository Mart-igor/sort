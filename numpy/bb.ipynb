{
 "cells": [
  {
   "cell_type": "markdown",
   "metadata": {},
   "source": [
    "def nth_highest_salary(employee: pd.DataFrame, N: int) -> pd.DataFrame:\n",
    "    if N <= 0:\n",
    "        return pd.DataFrame({f\"getNthHighestSalary({N})\": [None]})\n",
    "\n",
    "    unique_salaries = employee['salary'].drop_duplicates().sort_values(ascending=False)\n",
    "    \n",
    "    if N - 1 < len(unique_salaries):\n",
    "        nth_salary = unique_salaries.iloc[N - 1]\n",
    "        return pd.DataFrame({f\"getNthHighestSalary({N})\": [nth_salary]})\n",
    "    else:\n",
    "        return pd.DataFrame({f\"getNthHighestSalary({N})\": [None]})\n"
   ]
  },
  {
   "cell_type": "code",
   "execution_count": 1,
   "metadata": {},
   "outputs": [],
   "source": [
    "import pandas as pd"
   ]
  },
  {
   "cell_type": "code",
   "execution_count": 10,
   "metadata": {},
   "outputs": [
    {
     "name": "stdout",
     "output_type": "stream",
     "text": [
      "             salary\n",
      "department         \n",
      "Engineering   90000\n",
      "HR            80000\n",
      "Sales         60000\n"
     ]
    }
   ],
   "source": [
    "data = {\n",
    "    'id': [1, 2, 3, 4, 5, 6],\n",
    "    'name': ['Alice', 'Bob', 'Charlie', 'David', 'Eve', 'Frank'],\n",
    "    'department': ['HR', 'HR', 'Engineering', 'Engineering', 'Sales', 'Sales'],\n",
    "    'salary': [70000, 80000, 90000, 90000, 60000, 60000]\n",
    "}\n",
    "employees_df = pd.DataFrame(data)\n",
    "\n",
    "max_salaries = employees_df.groupby('department')['salary'].max()\n",
    " \n",
    "print(pd.DataFrame(max_salaries))\n",
    "def highest_salary_per_department(employee_df: pd.DataFrame) -> pd.DataFrame:\n",
    "    # Find the maximum salary in each department\n",
    "    max_salaries = employee_df.groupby('department')['salary'].max().reset_index()"
   ]
  },
  {
   "cell_type": "code",
   "execution_count": null,
   "metadata": {},
   "outputs": [],
   "source": [
    "import pandas as pd\n",
    "\n",
    "# Пример DataFrame для сотрудников\n",
    "employees_data = {\n",
    "    'id': [1, 2, 3, 4, 5, 6],\n",
    "    'name': ['Alice', 'Bob', 'Charlie', 'David', 'Eve', 'Frank'],\n",
    "    'department_id': [1, 1, 2, 2, 3, 3],\n",
    "    'salary': [70000, 80000, 90000, 90000, 60000, 60000]\n",
    "}\n",
    "\n",
    "employees_df = pd.DataFrame(employees_data)\n",
    "\n",
    "# Пример DataFrame для департаментов\n",
    "departments_data = {\n",
    "    'id': [1, 2, 3],\n",
    "    'department_name': ['HR', 'Engineering', 'Sales']\n",
    "}\n",
    "\n",
    "departments_df = pd.DataFrame(departments_data)\n",
    "\n",
    "def highest_salary_per_department(employees_df: pd.DataFrame, departments_df: pd.DataFrame) -> pd.DataFrame:\n",
    "    # Объединяем таблицы сотрудников и департаментов по department_id\n",
    "    merged_df = pd.merge(employees_df, departments_df, left_on='department_id', right_on='id', suffixes=('', '_dept'))\n",
    "    \n",
    "    # Находим максимальную зарплату в каждом департаменте\n",
    "    max_salaries = merged_df.groupby('department_name')['salary'].max().reset_index()\n",
    "    \n",
    "    # Объединяем с оригинальной таблицей, чтобы получить сотрудников с максимальной зарплатой\n",
    "    result = pd.merge(merged_df, max_salaries, on=['department_name', 'salary'])\n",
    "    \n",
    "    return result[['id', 'name', 'department_name', 'salary']]\n",
    "\n",
    "# Получаем результат\n",
    "result_df = highest_salary_per_department(employees_df, departments_df)\n",
    "print(result_df)\n",
    "\n",
    "Find More"
   ]
  },
  {
   "cell_type": "code",
   "execution_count": 35,
   "metadata": {},
   "outputs": [
    {
     "name": "stdout",
     "output_type": "stream",
     "text": [
      "   id     name  department_id  salary  id_dept department_name\n",
      "0   2      Bob              1   80000        1              HR\n",
      "1   3  Charlie              2   90000        2     Engineering\n",
      "2   5      Eve              3   60000        3           Sales\n",
      "3   6    Frank              3   60000        3           Sales\n",
      "   id     name  department_id  salary  id_dept department_name\n",
      "0   1    Alice              1   70000        1              HR\n",
      "1   2      Bob              1   80000        1              HR\n",
      "2   3  Charlie              2   90000        2     Engineering\n",
      "3   4    David              2   70000        2     Engineering\n",
      "4   5      Eve              3   60000        3           Sales\n",
      "5   6    Frank              3   60000        3           Sales\n"
     ]
    }
   ],
   "source": [
    "employees_data = {\n",
    "    'id': [1, 2, 3, 4, 5, 6],\n",
    "    'name': ['Alice', 'Bob', 'Charlie', 'David', 'Eve', 'Frank'],\n",
    "    'department_id': [1, 1, 2, 2, 3, 3],\n",
    "    'salary': [70000, 80000, 90000, 70000, 60000, 60000]\n",
    "}\n",
    "\n",
    "employees_df = pd.DataFrame(employees_data)\n",
    "departments_data = {\n",
    "    'id': [1, 2, 3],\n",
    "    'department_name': ['HR', 'Engineering', 'Sales']\n",
    "}\n",
    "\n",
    "departments_df = pd.DataFrame(departments_data)\n",
    "merged_df = pd.merge(employees_df, departments_df, left_on='department_id', right_on='id', suffixes=('', '_dept'))\n",
    "max_salaries = merged_df.groupby('department_name')['salary'].max().reset_index()\n",
    "result2 = merged_df.merge(max_salaries, on=['department_name', 'salary'])\n",
    "\n",
    "result = merged_df[merged_df['salary'].isin(max_salaries['salary'])].rename_axis()\n",
    "\n",
    "print(result2)\n",
    "print(merged_df)"
   ]
  },
  {
   "cell_type": "code",
   "execution_count": null,
   "metadata": {},
   "outputs": [],
   "source": [
    "def department_highest_salary(employee: pd.DataFrame, department: pd.DataFrame) -> pd.DataFrame:\n",
    "    mer = pd.merge(employee, department, left_on='departmentId', right_on='id', suffixes=('','_dept'))\n",
    "    gro = mer.groupby('name_dept')['salary'].max().reset_index()\n",
    "    wrq = mer.merge(gro, on=['name_dept', 'salary'])\n",
    "    aa = wrq[['name_dept', 'name', 'salary']].rename(columns={'name_dept': \"Department\", 'name': 'Employee', 'salary': 'Salary'})\n",
    "    return aa"
   ]
  },
  {
   "cell_type": "code",
   "execution_count": null,
   "metadata": {},
   "outputs": [],
   "source": [
    "def order_scores(scores: pd.DataFrame) -> pd.DataFrame:\n",
    "    a = scores.sort_values(by='score', ascending=False)\n",
    "    a['rank'] = a['score'].rank(method='dense', ascending=False)\n",
    "\n",
    "    return a[['score', 'rank']]"
   ]
  },
  {
   "cell_type": "code",
   "execution_count": null,
   "metadata": {},
   "outputs": [],
   "source": [
    "def delete_duplicate_emails(person: pd.DataFrame) -> None:\n",
    "    return person.drop_duplicates(subset='email', inplace=True)"
   ]
  },
  {
   "cell_type": "code",
   "execution_count": 38,
   "metadata": {},
   "outputs": [
    {
     "name": "stdout",
     "output_type": "stream",
     "text": [
      "   product_id   store  price\n",
      "0           0  store1   95.0\n",
      "1           1  store1   70.0\n",
      "2           0  store2  100.0\n",
      "3           0  store3  105.0\n",
      "4           1  store3   80.0\n"
     ]
    }
   ],
   "source": [
    "data = {\n",
    "    'product_id': [0, 1],\n",
    "    'store1': [95, 70],\n",
    "    'store2': [100, None],\n",
    "    'store3': [105, 80]\n",
    "}\n",
    "\n",
    "products_df = pd.DataFrame(data)\n",
    "\n",
    "# Преобразование в длинный формат\n",
    "melted_df = products_df.melt(id_vars=['product_id'], var_name='store', value_name='price')\n",
    "print(melted_df)"
   ]
  },
  {
   "cell_type": "code",
   "execution_count": null,
   "metadata": {},
   "outputs": [],
   "source": [
    "def rearrange_products_table(products: pd.DataFrame) -> pd.DataFrame:\n",
    "    a = products.melt(id_vars=['product_id'], var_name='store', value_name='price').dropna()\n",
    "    return a.sort_values(by=['store','product_id', 'price'])"
   ]
  },
  {
   "cell_type": "code",
   "execution_count": null,
   "metadata": {},
   "outputs": [],
   "source": [
    "def order_scores(scores: pd.DataFrame) -> pd.DataFrame:\n",
    "    # Сортируем DataFrame по score в порядке убывания\n",
    "    sorted_scores = scores.sort_values(by='score', ascending=False).reset_index(drop=True)\n",
    "\n",
    "    # Создаем новый DataFrame для хранения результатов\n",
    "    result = pd.DataFrame(columns=['score', 'rank'])\n",
    "    \n",
    "    current_rank = 1\n",
    "    previous_score = None\n",
    "\n",
    "    for i in range(len(sorted_scores)):\n",
    "        score = sorted_scores.loc[i, 'score']\n",
    "        \n",
    "        # Если текущий score отличается от предыдущего, обновляем ранг\n",
    "        if score != previous_score:\n",
    "            current_rank = i + 1  # Ранг равен индексу + 1\n",
    "\n",
    "        # Добавляем строку в результат\n",
    "        result = result.append({'score': score, 'rank': current_rank}, ignore_index=True)\n",
    "        \n",
    "        # Обновляем предыдущий score\n",
    "        previous_score = score\n",
    "\n",
    "    return result"
   ]
  },
  {
   "cell_type": "code",
   "execution_count": null,
   "metadata": {},
   "outputs": [],
   "source": []
  },
  {
   "cell_type": "code",
   "execution_count": null,
   "metadata": {},
   "outputs": [],
   "source": []
  },
  {
   "cell_type": "code",
   "execution_count": null,
   "metadata": {},
   "outputs": [],
   "source": []
  },
  {
   "cell_type": "code",
   "execution_count": null,
   "metadata": {},
   "outputs": [],
   "source": []
  },
  {
   "cell_type": "code",
   "execution_count": null,
   "metadata": {},
   "outputs": [],
   "source": []
  }
 ],
 "metadata": {
  "kernelspec": {
   "display_name": "numvenv",
   "language": "python",
   "name": "python3"
  },
  "language_info": {
   "codemirror_mode": {
    "name": "ipython",
    "version": 3
   },
   "file_extension": ".py",
   "mimetype": "text/x-python",
   "name": "python",
   "nbconvert_exporter": "python",
   "pygments_lexer": "ipython3",
   "version": "3.12.3"
  }
 },
 "nbformat": 4,
 "nbformat_minor": 2
}
