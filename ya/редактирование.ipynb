{
 "cells": [
  {
   "cell_type": "code",
   "execution_count": null,
   "metadata": {},
   "outputs": [],
   "source": [
    "def EditDistance(A, B, i, j, table):\n",
    "    # Проверка, было ли значение уже вычислено\n",
    "    if (i, j) not in table:\n",
    "        # Базовый случай: если одна из строк пустая\n",
    "        if i == 0 or j == 0:\n",
    "            table[(i, j)] = max(i, j)\n",
    "        else:\n",
    "            # Рекурсивные вызовы для вставки, удаления и замены\n",
    "            insertion = EditDistance(A, B, i, j - 1, table) + 1\n",
    "            deletion = EditDistance(A, B, i - 1, j, table) + 1\n",
    "            match = EditDistance(A, B, i - 1, j - 1, table)\n",
    "            mismatch = EditDistance(A, B, i - 1, j - 1, table) + 1\n",
    "\n",
    "            # Если символы совпадают, выбираем минимальное значение\n",
    "            if A[i - 1] == B[j - 1]:  # i и j начинаются с 1, поэтому A[i-1] и B[j-1]\n",
    "                table[(i, j)] = min(insertion, deletion, match)\n",
    "            else:\n",
    "                table[(i, j)] = min(insertion, deletion, mismatch)\n",
    "    \n",
    "    return table[(i, j)]\n",
    "\n",
    "# Функция для вычисления редакционного расстояния\n",
    "def minimum_edit_distance(A, B):\n",
    "    table = {}\n",
    "    return EditDistance(A, B, len(A), len(B), table)\n",
    "\n",
    "# Пример использования\n",
    "A = \"kitten\"\n",
    "B = \"sitting\"\n",
    "distance = minimum_edit_distance(A, B)\n",
    "print(f\"Минимальное редакционное расстояние между '{A}' и '{B}': {distance}\")\n"
   ]
  },
  {
   "cell_type": "code",
   "execution_count": null,
   "metadata": {},
   "outputs": [],
   "source": [
    "def egit_distance(str1, str2):\n",
    "    m = len(str1)\n",
    "    n = len(str2)\n",
    "\n",
    "    table = [[0] * (n + 1) for _ in range(m + 1)]\n",
    "\n",
    "    for i in range(n + 1):\n",
    "        table[i][0] = i\n",
    "\n",
    "    for j in range(m + 1):\n",
    "        table[0][j] = j\n",
    "\n",
    "    for i in range(1, m + 1):\n",
    "        for j in range(1, n + 1):\n",
    "            if str1[i - 1] == str2[j - 1]:\n",
    "                table[i][j] = table[i - 1][j - 1]\n",
    "            else:\n",
    "                table[i][j] = 1 + min(\n",
    "                    table[i - 1][0], \n",
    "                    table[i][j - 1],\n",
    "                    table[i - 1][j - 1]\n",
    "                )\n",
    "\n",
    "    return table[m][n]\n",
    "\n",
    "    \n"
   ]
  }
 ],
 "metadata": {
  "kernelspec": {
   "display_name": "numvenv",
   "language": "python",
   "name": "python3"
  },
  "language_info": {
   "name": "python",
   "version": "3.12.3"
  }
 },
 "nbformat": 4,
 "nbformat_minor": 2
}
