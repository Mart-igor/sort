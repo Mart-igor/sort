{
 "cells": [
  {
   "cell_type": "code",
   "execution_count": null,
   "metadata": {},
   "outputs": [],
   "source": [
    "# def Calculator(n):\n",
    "#     table[1..n]←[+infinity,…,+infinity]\n",
    "#     table[1] = 0\n",
    "#     for k from 2 to n:\n",
    "#         table[k]=1+table[k−1]\n",
    "#         if k is divisible by 2:\n",
    "#             table[k]=min(table[k],1+table[k/2])\n",
    "#         if k is divisible by 3:\n",
    "#             table[k]=min(table[k],1+table[k/3])\n",
    "#     return table[n]"
   ]
  },
  {
   "cell_type": "code",
   "execution_count": null,
   "metadata": {},
   "outputs": [],
   "source": [
    "# Calculator(n):\n",
    "#     table[1..n]←[+infinity,…,+infinity]\n",
    "#     table[1] = 0\n",
    "    \n",
    "#     for k from 2 to n:\n",
    "#         table[k]=1+table[k−1]\n",
    "#         if k is divisible by 2:\n",
    "#             table[k]=min(table[k],1+table[k/2])\n",
    "#         if k is divisible by 3:\n",
    "#             table[k]=min(table[k],1+table[k/3])\n",
    "    \n",
    "#     operations = empty list\n",
    "#     while n > 1:\n",
    "#         append n to operations\n",
    "#         if table[n]=1+table[n−1]:\n",
    "#             n = n - 1\n",
    "#         else if n is divisible by 2 and table[n]=1+table[n/2]:\n",
    "#             n = n/2\n",
    "#         else if n is divisible by 3 and table[n]=1+table[n/3]:\n",
    "#             n = n/3\n",
    "#     return operations"
   ]
  }
 ],
 "metadata": {
  "kernelspec": {
   "display_name": "numvenv",
   "language": "python",
   "name": "python3"
  },
  "language_info": {
   "name": "python",
   "version": "3.12.3"
  }
 },
 "nbformat": 4,
 "nbformat_minor": 2
}
