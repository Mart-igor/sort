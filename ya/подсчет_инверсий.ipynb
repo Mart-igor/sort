{
 "cells": [
  {
   "cell_type": "code",
   "execution_count": null,
   "metadata": {},
   "outputs": [],
   "source": [
    "def merge_and_count(arr, temp_arr, left, mid, right):\n",
    "    i = left    # Начальный индекс для левой подмассивы\n",
    "    j = mid + 1 # Начальный индекс для правой подмассивы\n",
    "    k = left    # Начальный индекс для объединенного подмассива\n",
    "    inv_count = 0 # Счетчик инверсий\n",
    "\n",
    "    while i <= mid and j <= right:\n",
    "        if arr[i] <= arr[j]:\n",
    "            temp_arr[k] = arr[i]\n",
    "            i += 1\n",
    "        else:\n",
    "            # Есть инверсии, так как arr[i] > arr[j]\n",
    "            temp_arr[k] = arr[j]\n",
    "            inv_count += (mid - i + 1) # Все оставшиеся элементы в левой подмассиве являются инверсиями\n",
    "            j += 1\n",
    "        k += 1\n",
    "\n",
    "    # Копируем оставшиеся элементы левой подмассивы, если есть\n",
    "    while i <= mid:\n",
    "        temp_arr[k] = arr[i]\n",
    "        i += 1\n",
    "        k += 1\n",
    "\n",
    "    # Копируем оставшиеся элементы правой подмассивы, если есть\n",
    "    while j <= right:\n",
    "        temp_arr[k] = arr[j]\n",
    "        j += 1\n",
    "        k += 1\n",
    "\n",
    "    # Копируем объединенный подмассив обратно в оригинальный массив\n",
    "    for i in range(left, right + 1):\n",
    "        arr[i] = temp_arr[i]\n",
    "\n",
    "    return inv_count\n",
    "\n",
    "def merge_sort_and_count(arr, temp_arr, left, right):\n",
    "    inv_count = 0\n",
    "    if left < right:\n",
    "        mid = (left + right) // 2\n",
    "\n",
    "        inv_count += merge_sort_and_count(arr, temp_arr, left, mid)\n",
    "        inv_count += merge_sort_and_count(arr, temp_arr, mid + 1, right)\n",
    "        inv_count += merge_and_count(arr, temp_arr, left, mid, right)\n",
    "\n",
    "    return inv_count\n",
    "\n",
    "# Пример использования\n",
    "n = 5\n",
    "arr = [2, 3, 9, 2, 9]\n",
    "temp_arr = [0] * n\n",
    "result = merge_sort_and_count(arr, temp_arr, 0, n - 1)\n",
    "print(result)\n"
   ]
  }
 ],
 "metadata": {
  "kernelspec": {
   "display_name": "numvenv",
   "language": "python",
   "name": "python3"
  },
  "language_info": {
   "name": "python",
   "version": "3.12.3"
  }
 },
 "nbformat": 4,
 "nbformat_minor": 2
}
