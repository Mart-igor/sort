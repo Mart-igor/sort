{
 "cells": [
  {
   "cell_type": "code",
   "execution_count": 2,
   "metadata": {},
   "outputs": [],
   "source": [
    "import numpy as np"
   ]
  },
  {
   "cell_type": "code",
   "execution_count": null,
   "metadata": {},
   "outputs": [],
   "source": [
    "with open('input.txt', 'r', encoding='UTF-8') as file_in:\n",
    "    n, m = tuple(file_in.readline().strip().split())"
   ]
  },
  {
   "cell_type": "code",
   "execution_count": 11,
   "metadata": {},
   "outputs": [],
   "source": [
    "n = 5\n",
    "m = 5"
   ]
  },
  {
   "cell_type": "code",
   "execution_count": 26,
   "metadata": {},
   "outputs": [
    {
     "data": {
      "text/plain": [
       "array([['', '', '', '', ''],\n",
       "       ['', '', '', '', ''],\n",
       "       ['', '', '', '', ''],\n",
       "       ['', '', '', '', ''],\n",
       "       ['', '', '', '', '']], dtype='<U1')"
      ]
     },
     "execution_count": 26,
     "metadata": {},
     "output_type": "execute_result"
    }
   ],
   "source": [
    "C = np.empty((n, m), dtype='<U1')\n",
    "C"
   ]
  },
  {
   "cell_type": "code",
   "execution_count": 27,
   "metadata": {},
   "outputs": [],
   "source": [
    "C[0, 0] = 'L'"
   ]
  },
  {
   "cell_type": "code",
   "execution_count": 28,
   "metadata": {},
   "outputs": [
    {
     "name": "stdout",
     "output_type": "stream",
     "text": [
      "[['L' 'W' 'L' 'W' 'L']\n",
      " ['' '' '' '' '']\n",
      " ['' '' '' '' '']\n",
      " ['' '' '' '' '']\n",
      " ['' '' '' '' '']]\n",
      "[['L' 'W' 'L' 'W' 'L']\n",
      " ['W' '' '' '' '']\n",
      " ['L' '' '' '' '']\n",
      " ['W' '' '' '' '']\n",
      " ['L' '' '' '' '']]\n"
     ]
    }
   ],
   "source": [
    "for i in range(1, n):\n",
    "    if C[0][i - 1] ==  'W':\n",
    "        C[0][i] = 'L'\n",
    "    else:\n",
    "        C[0][i] = 'W'\n",
    "print(C)\n",
    "for j in range(1, m):\n",
    "    if C[j - 1][0] == 'L':\n",
    "        C[j][0] = 'W'\n",
    "    else:\n",
    "        C[j][0] = 'L'\n",
    "print(C)\n",
    "for i in range(n - 1):\n",
    "    for j in range(m - 1):\n",
    "        if C[i][j] == 'W' and C[i][j + 1] == 'W' and C[i + 1][j] == 'W':\n",
    "            C[i + 1][j + 1] = 'L'\n",
    "        else:\n",
    "            C[i + 1][j + 1] = 'W'\n"
   ]
  },
  {
   "cell_type": "code",
   "execution_count": 29,
   "metadata": {},
   "outputs": [
    {
     "data": {
      "text/plain": [
       "array([['L', 'W', 'L', 'W', 'L'],\n",
       "       ['W', 'W', 'W', 'W', 'W'],\n",
       "       ['L', 'W', 'L', 'W', 'L'],\n",
       "       ['W', 'W', 'W', 'W', 'W'],\n",
       "       ['L', 'W', 'L', 'W', 'L']], dtype='<U1')"
      ]
     },
     "execution_count": 29,
     "metadata": {},
     "output_type": "execute_result"
    }
   ],
   "source": [
    "C"
   ]
  },
  {
   "cell_type": "code",
   "execution_count": null,
   "metadata": {},
   "outputs": [],
   "source": []
  }
 ],
 "metadata": {
  "kernelspec": {
   "display_name": "numvenv",
   "language": "python",
   "name": "python3"
  },
  "language_info": {
   "codemirror_mode": {
    "name": "ipython",
    "version": 3
   },
   "file_extension": ".py",
   "mimetype": "text/x-python",
   "name": "python",
   "nbconvert_exporter": "python",
   "pygments_lexer": "ipython3",
   "version": "3.12.3"
  }
 },
 "nbformat": 4,
 "nbformat_minor": 2
}
