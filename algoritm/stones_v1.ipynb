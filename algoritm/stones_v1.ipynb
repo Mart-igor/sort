{
 "cells": [
  {
   "cell_type": "code",
   "execution_count": 32,
   "metadata": {},
   "outputs": [],
   "source": [
    "import numpy as np\n",
    "import pandas as pd\n",
    "from prettytable import PrettyTable"
   ]
  },
  {
   "cell_type": "code",
   "execution_count": null,
   "metadata": {},
   "outputs": [],
   "source": [
    "with open('input.txt', 'r', encoding='UTF-8') as file_in:\n",
    "    n, m = tuple(file_in.readline().strip().split())"
   ]
  },
  {
   "cell_type": "code",
   "execution_count": 11,
   "metadata": {},
   "outputs": [],
   "source": [
    "n = 5\n",
    "m = 5"
   ]
  },
  {
   "cell_type": "code",
   "execution_count": 26,
   "metadata": {},
   "outputs": [
    {
     "data": {
      "text/plain": [
       "array([['', '', '', '', ''],\n",
       "       ['', '', '', '', ''],\n",
       "       ['', '', '', '', ''],\n",
       "       ['', '', '', '', ''],\n",
       "       ['', '', '', '', '']], dtype='<U1')"
      ]
     },
     "execution_count": 26,
     "metadata": {},
     "output_type": "execute_result"
    }
   ],
   "source": [
    "C = np.empty((n, m), dtype='<U1')\n",
    "C"
   ]
  },
  {
   "cell_type": "code",
   "execution_count": 27,
   "metadata": {},
   "outputs": [],
   "source": [
    "C[0, 0] = 'L'"
   ]
  },
  {
   "cell_type": "code",
   "execution_count": 28,
   "metadata": {},
   "outputs": [
    {
     "name": "stdout",
     "output_type": "stream",
     "text": [
      "[['L' 'W' 'L' 'W' 'L']\n",
      " ['' '' '' '' '']\n",
      " ['' '' '' '' '']\n",
      " ['' '' '' '' '']\n",
      " ['' '' '' '' '']]\n",
      "[['L' 'W' 'L' 'W' 'L']\n",
      " ['W' '' '' '' '']\n",
      " ['L' '' '' '' '']\n",
      " ['W' '' '' '' '']\n",
      " ['L' '' '' '' '']]\n"
     ]
    }
   ],
   "source": [
    "for i in range(1, n):\n",
    "    if C[0][i - 1] ==  'W':\n",
    "        C[0][i] = 'L'\n",
    "    else:\n",
    "        C[0][i] = 'W'\n",
    "print(C)\n",
    "for j in range(1, m):\n",
    "    if C[j - 1][0] == 'L':\n",
    "        C[j][0] = 'W'\n",
    "    else:\n",
    "        C[j][0] = 'L'\n",
    "print(C)\n",
    "for i in range(n - 1):\n",
    "    for j in range(m - 1):\n",
    "        if C[i][j] == 'W' and C[i][j + 1] == 'W' and C[i + 1][j] == 'W':\n",
    "            C[i + 1][j + 1] = 'L'\n",
    "        else:\n",
    "            C[i + 1][j + 1] = 'W'\n"
   ]
  },
  {
   "cell_type": "code",
   "execution_count": 29,
   "metadata": {},
   "outputs": [
    {
     "data": {
      "text/plain": [
       "array([['L', 'W', 'L', 'W', 'L'],\n",
       "       ['W', 'W', 'W', 'W', 'W'],\n",
       "       ['L', 'W', 'L', 'W', 'L'],\n",
       "       ['W', 'W', 'W', 'W', 'W'],\n",
       "       ['L', 'W', 'L', 'W', 'L']], dtype='<U1')"
      ]
     },
     "execution_count": 29,
     "metadata": {},
     "output_type": "execute_result"
    }
   ],
   "source": [
    "C"
   ]
  },
  {
   "cell_type": "code",
   "execution_count": 31,
   "metadata": {},
   "outputs": [
    {
     "data": {
      "text/html": [
       "<div>\n",
       "<style scoped>\n",
       "    .dataframe tbody tr th:only-of-type {\n",
       "        vertical-align: middle;\n",
       "    }\n",
       "\n",
       "    .dataframe tbody tr th {\n",
       "        vertical-align: top;\n",
       "    }\n",
       "\n",
       "    .dataframe thead th {\n",
       "        text-align: right;\n",
       "    }\n",
       "</style>\n",
       "<table border=\"1\" class=\"dataframe\">\n",
       "  <thead>\n",
       "    <tr style=\"text-align: right;\">\n",
       "      <th></th>\n",
       "      <th>0</th>\n",
       "      <th>1</th>\n",
       "      <th>2</th>\n",
       "      <th>3</th>\n",
       "      <th>4</th>\n",
       "    </tr>\n",
       "  </thead>\n",
       "  <tbody>\n",
       "    <tr>\n",
       "      <th>0</th>\n",
       "      <td>L</td>\n",
       "      <td>W</td>\n",
       "      <td>L</td>\n",
       "      <td>W</td>\n",
       "      <td>L</td>\n",
       "    </tr>\n",
       "    <tr>\n",
       "      <th>1</th>\n",
       "      <td>W</td>\n",
       "      <td>W</td>\n",
       "      <td>W</td>\n",
       "      <td>W</td>\n",
       "      <td>W</td>\n",
       "    </tr>\n",
       "    <tr>\n",
       "      <th>2</th>\n",
       "      <td>L</td>\n",
       "      <td>W</td>\n",
       "      <td>L</td>\n",
       "      <td>W</td>\n",
       "      <td>L</td>\n",
       "    </tr>\n",
       "    <tr>\n",
       "      <th>3</th>\n",
       "      <td>W</td>\n",
       "      <td>W</td>\n",
       "      <td>W</td>\n",
       "      <td>W</td>\n",
       "      <td>W</td>\n",
       "    </tr>\n",
       "    <tr>\n",
       "      <th>4</th>\n",
       "      <td>L</td>\n",
       "      <td>W</td>\n",
       "      <td>L</td>\n",
       "      <td>W</td>\n",
       "      <td>L</td>\n",
       "    </tr>\n",
       "  </tbody>\n",
       "</table>\n",
       "</div>"
      ],
      "text/plain": [
       "   0  1  2  3  4\n",
       "0  L  W  L  W  L\n",
       "1  W  W  W  W  W\n",
       "2  L  W  L  W  L\n",
       "3  W  W  W  W  W\n",
       "4  L  W  L  W  L"
      ]
     },
     "execution_count": 31,
     "metadata": {},
     "output_type": "execute_result"
    }
   ],
   "source": [
    "data = pd.DataFrame(C)\n",
    "data"
   ]
  },
  {
   "cell_type": "code",
   "execution_count": 34,
   "metadata": {},
   "outputs": [
    {
     "name": "stdout",
     "output_type": "stream",
     "text": [
      "+---------+---------+---------+---------+---------+\n",
      "| Field 1 | Field 2 | Field 3 | Field 4 | Field 5 |\n",
      "+---------+---------+---------+---------+---------+\n",
      "|    L    |    W    |    L    |    W    |    L    |\n",
      "|    W    |    W    |    W    |    W    |    W    |\n",
      "|    L    |    W    |    L    |    W    |    L    |\n",
      "|    W    |    W    |    W    |    W    |    W    |\n",
      "|    L    |    W    |    L    |    W    |    L    |\n",
      "+---------+---------+---------+---------+---------+\n"
     ]
    }
   ],
   "source": [
    "table = PrettyTable()\n",
    "for row in data.values:\n",
    "    table.add_row(row)\n",
    "print(table)"
   ]
  },
  {
   "cell_type": "code",
   "execution_count": 36,
   "metadata": {},
   "outputs": [
    {
     "name": "stdout",
     "output_type": "stream",
     "text": [
      "+---------+---------+---------+---------+---------+\n",
      "| Field 1 | Field 2 | Field 3 | Field 4 | Field 5 |\n",
      "+---------+---------+---------+---------+---------+\n",
      "|    L    |    W    |    L    |    W    |    L    |\n",
      "|    W    |    W    |    W    |    W    |    W    |\n",
      "|    L    |    W    |    L    |    W    |    L    |\n",
      "|    W    |    W    |    W    |    W    |    W    |\n",
      "|    L    |    W    |    L    |    W    |    L    |\n",
      "+---------+---------+---------+---------+---------+\n"
     ]
    }
   ],
   "source": [
    "pritty = PrettyTable()\n",
    "for row in C:\n",
    "    pritty.add_row(row)\n",
    "print(pritty)"
   ]
  },
  {
   "cell_type": "code",
   "execution_count": null,
   "metadata": {},
   "outputs": [],
   "source": []
  }
 ],
 "metadata": {
  "kernelspec": {
   "display_name": "numvenv",
   "language": "python",
   "name": "python3"
  },
  "language_info": {
   "codemirror_mode": {
    "name": "ipython",
    "version": 3
   },
   "file_extension": ".py",
   "mimetype": "text/x-python",
   "name": "python",
   "nbconvert_exporter": "python",
   "pygments_lexer": "ipython3",
   "version": "3.12.3"
  }
 },
 "nbformat": 4,
 "nbformat_minor": 2
}
