{
 "cells": [
  {
   "cell_type": "code",
   "execution_count": 1,
   "metadata": {},
   "outputs": [
    {
     "data": {
      "text/plain": [
       "[(1, 3), (2, 5), (3, 6)]"
      ]
     },
     "execution_count": 1,
     "metadata": {},
     "output_type": "execute_result"
    }
   ],
   "source": [
    "with open('input.txt', 'r', encoding='UTF-8') as file_in:\n",
    "    n = int(file_in.readline().strip())\n",
    "    time = [tuple(map(int, file_in.readline().strip().split())) for _ in range(n)]\n",
    "time"
   ]
  },
  {
   "cell_type": "code",
   "execution_count": 10,
   "metadata": {},
   "outputs": [
    {
     "name": "stdout",
     "output_type": "stream",
     "text": [
      "2\n",
      " 3 7 "
     ]
    }
   ],
   "source": [
    "with open('input.txt', 'r', encoding='UTF-8') as file_in:\n",
    "    n = int(file_in.readline().strip())\n",
    "    time = [tuple(map(int, file_in.readline().strip().split())) for _ in range(n)]\n",
    "\n",
    "def get_all_sings(time):\n",
    "    attr = set()\n",
    "    while time:\n",
    "        r_e = min(one[1] for one in time)\n",
    "        attr.add(r_e)\n",
    "        time = [quantity for quantity in time if quantity[0] > r_e ]\n",
    "    return attr\n",
    "\n",
    "\n",
    "a = get_all_sings(time)\n",
    "print(f\"{len(a)}\\n\",*[t for t in a], end=' ')"
   ]
  },
  {
   "cell_type": "code",
   "execution_count": 14,
   "metadata": {},
   "outputs": [
    {
     "name": "stdout",
     "output_type": "stream",
     "text": [
      "[3, 7]\n"
     ]
    }
   ],
   "source": [
    "def aaa(time):\n",
    "    time.sort(key=lambda x: x[1])\n",
    "    a = []\n",
    "    last = None\n",
    "    for t in time:\n",
    "        if last is None or t[0] > last:\n",
    "            last = t[1]\n",
    "            a.append(last)\n",
    "    return a\n",
    "print(aaa(time))\n"
   ]
  },
  {
   "cell_type": "code",
   "execution_count": 38,
   "metadata": {},
   "outputs": [
    {
     "name": "stdout",
     "output_type": "stream",
     "text": [
      "5\n"
     ]
    }
   ],
   "source": [
    "def df(L, lst):\n",
    "    i = 0\n",
    "    lst.sort()\n",
    "    count = 0\n",
    "    count += 1\n",
    "    left = lst[i]\n",
    "    right = left + L\n",
    "    while lst[i] <= right:\n",
    "        i += 1\n",
    "        if i >= len(lst):\n",
    "            break\n",
    "        count += 1\n",
    "        left = lst[i]\n",
    "        right = left + L\n",
    "\n",
    "    return count\n",
    "\n",
    "with open('input.txt', 'r', encoding='UTF-8') as file_in:\n",
    "    n = list(map(int, file_in.readline().strip().split()))[1]\n",
    "    time = list(map(int, file_in.readline().strip().split()))\n",
    "\n",
    "print(df(n, time))"
   ]
  },
  {
   "cell_type": "code",
   "execution_count": 40,
   "metadata": {},
   "outputs": [
    {
     "name": "stdout",
     "output_type": "stream",
     "text": [
      "1\n"
     ]
    }
   ],
   "source": [
    "n = int(input())\n",
    "\n",
    "def asd(n):\n",
    "    k = 0\n",
    "    total = 0\n",
    "    while total + (k + 1) <= n:\n",
    "        k += 1\n",
    "        total += k\n",
    "    \n",
    "    winners = list(range(1, k + 1))\n",
    "    if n - total > 0:\n",
    "        winners[-1] += n - total\n",
    "    return k\n",
    "print(asd(n))"
   ]
  },
  {
   "cell_type": "code",
   "execution_count": null,
   "metadata": {},
   "outputs": [],
   "source": []
  }
 ],
 "metadata": {
  "kernelspec": {
   "display_name": "numvenv",
   "language": "python",
   "name": "python3"
  },
  "language_info": {
   "codemirror_mode": {
    "name": "ipython",
    "version": 3
   },
   "file_extension": ".py",
   "mimetype": "text/x-python",
   "name": "python",
   "nbconvert_exporter": "python",
   "pygments_lexer": "ipython3",
   "version": "3.12.3"
  }
 },
 "nbformat": 4,
 "nbformat_minor": 2
}
