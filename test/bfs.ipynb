{
 "cells": [
  {
   "cell_type": "code",
   "execution_count": null,
   "metadata": {},
   "outputs": [],
   "source": [
    "from collections import deque\n",
    "\n",
    "def bfs_shortest_path(graph, start, goal):\n",
    "    # Инициализация очереди и посещённых узлов\n",
    "    queue = deque([[start]])  # Начинаем с начального узла\n",
    "    visited = set()  # Множество для отслеживания посещённых узлов\n",
    "    \n",
    "    while queue:\n",
    "        # Извлекаем текущий путь из очереди\n",
    "        path = queue.popleft()\n",
    "        node = path[-1]  # Берём последний узел из пути\n",
    "        \n",
    "        # Проверяем, достигли ли мы целевого узла\n",
    "        if node == goal:\n",
    "            return path  # Возвращаем найденный путь\n",
    "        \n",
    "        # Если узел ещё не посещён\n",
    "        if node not in visited:\n",
    "            visited.add(node)  # Отмечаем узел как посещённый\n",
    "            \n",
    "            # Добавляем всех соседей в очередь\n",
    "            for neighbor in graph[node]:\n",
    "                new_path = list(path)  # Копируем текущий путь\n",
    "                new_path.append(neighbor)  # Добавляем соседа в путь\n",
    "                queue.append(new_path)  # Помещаем новый путь в очередь\n",
    "\n",
    "    return None  # Если путь не найден\n",
    "\n",
    "# Пример графа\n",
    "graph = {\n",
    "    'A': ['B', 'C'],\n",
    "    'B': ['A', 'D', 'E'],\n",
    "    'C': ['A', 'F'],\n",
    "    'D': ['B'],\n",
    "    'E': ['B', 'F'],\n",
    "    'F': ['C', 'E']\n",
    "}\n",
    "\n",
    "# Поиск кратчайшего пути от A до F\n",
    "path = bfs_shortest_path(graph, 'A', 'F')\n",
    "print(\"Кратчайший путь:\", path)\n"
   ]
  },
  {
   "cell_type": "code",
   "execution_count": 3,
   "metadata": {},
   "outputs": [
    {
     "name": "stdout",
     "output_type": "stream",
     "text": [
      "1j2j3\n"
     ]
    }
   ],
   "source": [
    "a = [ 1, 2,3]\n",
    "print('j'.join(map(str, a)))"
   ]
  },
  {
   "cell_type": "code",
   "execution_count": null,
   "metadata": {},
   "outputs": [],
   "source": []
  }
 ],
 "metadata": {
  "kernelspec": {
   "display_name": "numvenv",
   "language": "python",
   "name": "python3"
  },
  "language_info": {
   "codemirror_mode": {
    "name": "ipython",
    "version": 3
   },
   "file_extension": ".py",
   "mimetype": "text/x-python",
   "name": "python",
   "nbconvert_exporter": "python",
   "pygments_lexer": "ipython3",
   "version": "3.12.3"
  }
 },
 "nbformat": 4,
 "nbformat_minor": 2
}
