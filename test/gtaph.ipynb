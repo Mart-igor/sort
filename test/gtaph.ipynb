{
 "cells": [
  {
   "cell_type": "code",
   "execution_count": 5,
   "metadata": {},
   "outputs": [
    {
     "name": "stdout",
     "output_type": "stream",
     "text": [
      "[[], [2, 4, 5], [6, 3], [], [6], []]\n",
      "Vershina 1: [2, 4, 5]\n",
      "Vershina 2: [6, 3]\n",
      "Vershina 3: []\n",
      "Vershina 4: [6]\n",
      "Vershina 5: []\n"
     ]
    }
   ],
   "source": [
    "def create_adjacency_graph(num_vericees, edges):\n",
    "    adjancecy_graph = [[] for _ in range(num_vericees)]\n",
    "    \n",
    "    for edge in edges:\n",
    "        u, v = edge\n",
    "        adjancecy_graph[u].append(v)\n",
    "\n",
    "    return adjancecy_graph\n",
    "\n",
    "\n",
    "num_vericees = 6\n",
    "edges = [[1,2],[1,4],[1,5],[2,6],[2,3],[4,6]]\n",
    "\n",
    "adjincy = create_adjacency_graph(num_vericees, edges)\n",
    "print(adjincy)\n",
    "for i in range(1, num_vericees):\n",
    "    print(f\"Vershina {i}: {adjincy[i]}\")"
   ]
  },
  {
   "cell_type": "code",
   "execution_count": null,
   "metadata": {},
   "outputs": [],
   "source": [
    "def "
   ]
  }
 ],
 "metadata": {
  "kernelspec": {
   "display_name": "numvenv",
   "language": "python",
   "name": "python3"
  },
  "language_info": {
   "codemirror_mode": {
    "name": "ipython",
    "version": 3
   },
   "file_extension": ".py",
   "mimetype": "text/x-python",
   "name": "python",
   "nbconvert_exporter": "python",
   "pygments_lexer": "ipython3",
   "version": "3.12.3"
  }
 },
 "nbformat": 4,
 "nbformat_minor": 2
}
